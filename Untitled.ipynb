{
 "cells": [
  {
   "cell_type": "code",
   "execution_count": 1,
   "metadata": {},
   "outputs": [],
   "source": [
    "import os\n",
    "from urllib.request import urlretrieve\n",
    "import gzip\n",
    "import matplotlib.pyplot as plt\n",
    "import numpy as np\n",
    "from pyteomics import fasta, parser, mass, achrom, electrochem, auxiliary\n",
    "from pyteomics.mass import calculate_mass\n",
    "import shutil\n",
    "import random"
   ]
  },
  {
   "cell_type": "markdown",
   "metadata": {},
   "source": [
    "# Первая часть задания\n",
    "\n",
    "Скачиваем белковые БД дрожжей и человека. Сравниваем их размер."
   ]
  },
  {
   "cell_type": "code",
   "execution_count": 2,
   "metadata": {},
   "outputs": [
    {
     "name": "stdout",
     "output_type": "stream",
     "text": [
      "Downloading the FASTA file for YEAST\n",
      "Done!\n"
     ]
    }
   ],
   "source": [
    "if not os.path.isfile('YEAST.fasta.gz'):\n",
    "    print ('Downloading the FASTA file for YEAST')\n",
    "    urlretrieve(\n",
    "        'https://www.uniprot.org/uniprot/?query=yeast&format=fasta&force=true&sort=score&fil=organism:%22Saccharomyces%20cerevisiae%20(strain%20ATCC%20204508%20/%20S288c)%20(Baker%27s%20yeast)%20[559292]%22%20AND%20reviewed:yes&compress=yes',\n",
    "        'knowledgebase/proteomes/YEAST.fasta.gz')\n",
    "    print ('Done!')"
   ]
  },
  {
   "cell_type": "code",
   "execution_count": 3,
   "metadata": {},
   "outputs": [
    {
     "name": "stdout",
     "output_type": "stream",
     "text": [
      "Downloading the FASTA file for YEAST_isoforms\n",
      "Done!\n"
     ]
    }
   ],
   "source": [
    "if not os.path.isfile('yeast_isoforms.fasta.gz'):\n",
    "    print ('Downloading the FASTA file for YEAST_isoforms')\n",
    "    urlretrieve(\n",
    "        'https://www.uniprot.org/uniprot/?query=yeast&format=fasta&include=yes&force=true&sort=score&fil=organism:%22Saccharomyces%20cerevisiae%20(strain%20ATCC%20204508%20/%20S288c)%20(Baker%27s%20yeast)%20[559292]%22%20AND%20reviewed:yes&compress=yes',\n",
    "        'knowledgebase/proteomes/YEAST_isoforms.fasta.gz')\n",
    "    print ('Done!')"
   ]
  },
  {
   "cell_type": "code",
   "execution_count": 4,
   "metadata": {},
   "outputs": [
    {
     "name": "stdout",
     "output_type": "stream",
     "text": [
      "Downloading the FASTA file for HUMAN\n",
      "Done!\n"
     ]
    }
   ],
   "source": [
    "if not os.path.isfile('human.fasta.gz'):\n",
    "    print ('Downloading the FASTA file for HUMAN')\n",
    "    urlretrieve(\n",
    "        'https://www.uniprot.org/uniprot/?query=*&format=fasta&force=true&fil=organism:%22Homo%20sapiens%20(Human)%20[9606]%22%20AND%20reviewed:yes&compress=yes',\n",
    "        'knowledgebase/proteomes/HUMAN.fasta.gz')\n",
    "    print ('Done!')"
   ]
  },
  {
   "cell_type": "code",
   "execution_count": 5,
   "metadata": {},
   "outputs": [
    {
     "name": "stdout",
     "output_type": "stream",
     "text": [
      "Downloading the FASTA file for HUMAN_isoforms\n",
      "Done!\n"
     ]
    }
   ],
   "source": [
    "if not os.path.isfile('human_isoforms.fasta.gz'):\n",
    "    print ('Downloading the FASTA file for HUMAN_isoforms')\n",
    "    urlretrieve(\n",
    "        'https://www.uniprot.org/uniprot/?query=*&format=fasta&include=yes&force=true&fil=organism:%22Homo%20sapiens%20(Human)%20[9606]%22%20AND%20reviewed:yes&compress=yes',\n",
    "        'knowledgebase/proteomes/HUMAN_isoforms.fasta.gz')\n",
    "    print ('Done!')"
   ]
  },
  {
   "cell_type": "code",
   "execution_count": 6,
   "metadata": {
    "scrolled": true
   },
   "outputs": [
    {
     "name": "stdout",
     "output_type": "stream",
     "text": [
      "Human DB is bigger than Yeast DB\n"
     ]
    }
   ],
   "source": [
    "s_1= os.path.getsize('knowledgebase/proteomes/YEAST.fasta.gz') \n",
    "s_2= os.path.getsize('knowledgebase/proteomes/HUMAN.fasta.gz')\n",
    "if s_1 > s_2:\n",
    "    print ('Yeast DB is bigger than Human DB')\n",
    "else:\n",
    "    print ('Human DB is bigger than Yeast DB')"
   ]
  },
  {
   "cell_type": "code",
   "execution_count": 7,
   "metadata": {},
   "outputs": [
    {
     "name": "stdout",
     "output_type": "stream",
     "text": [
      "Human DB with isoforms is bigger than Yeast DB with isoforms\n"
     ]
    }
   ],
   "source": [
    "s_1= os.path.getsize('knowledgebase/proteomes/YEAST_isoforms.fasta.gz') \n",
    "s_2= os.path.getsize('knowledgebase/proteomes/HUMAN_isoforms.fasta.gz')\n",
    "if s_1 > s_2:\n",
    "    print ('Yeast DB with isoforms is bigger than Human DB with isoforms')\n",
    "else:\n",
    "    print ('Human DB with isoforms is bigger than Yeast DB with isoforms')"
   ]
  },
  {
   "cell_type": "markdown",
   "metadata": {},
   "source": [
    "# Вторая часть задания"
   ]
  },
  {
   "cell_type": "markdown",
   "metadata": {},
   "source": [
    "# Создаем словарь для хранения пептидов"
   ]
  },
  {
   "cell_type": "code",
   "execution_count": 8,
   "metadata": {},
   "outputs": [],
   "source": [
    "def peptidesBD(protein,protease,diction=False):\n",
    "#если словарь не создан, создаем новый\n",
    "    if diction==False:\n",
    "        res=dict()\n",
    "#если создан, то расмматриваем его и дополняем        \n",
    "    else:\n",
    "        res=diction\n",
    "    #данные в fasta хранятся в виде dicription,sequence для каждого белка    \n",
    "    description,sequence = protein\n",
    "    #записываем имя рассматриваемого белка\n",
    "    name=description[:description.find(' ')]\n",
    "    #пользуемся библиотечной функцией для теоретического расщепления белка выбранным ферментом\n",
    "    peptides=parser.cleave(sequence, parser.expasy_rules[protease],missed_cleavages=2)\n",
    "    #начинаем заполнять словарь\n",
    "    for elem in peptides:\n",
    "        #проверяем, есть ли данный пептид в нашем словаре (является ли ключом)\n",
    "        if elem in res:\n",
    "            #к строке белков, хранящейся под этим ключом,дописываем новый\n",
    "            res[elem] = res[elem]+' '+ name\n",
    "        else:\n",
    "            res[elem] = name\n",
    "    #функция возвращает словарь        \n",
    "    return res        "
   ]
  },
  {
   "cell_type": "code",
   "execution_count": 9,
   "metadata": {},
   "outputs": [],
   "source": [
    "#создаем функцию, которая работает со всей белковой базой и выбранным ферментом\n",
    "def proteomeBD(proteome,protease):\n",
    "    #создали словарь для записи пептидов-ключей,белков-значений\n",
    "    res = dict()\n",
    "    #бежим по белкам и применяем к каждому предыдущую функцию\n",
    "    for protein in proteome:\n",
    "        res=peptidesBD(protein,protease,res)\n",
    "    return res    "
   ]
  },
  {
   "cell_type": "code",
   "execution_count": 10,
   "metadata": {},
   "outputs": [
    {
     "ename": "NameError",
     "evalue": "name 'FastaSave' is not defined",
     "output_type": "error",
     "traceback": [
      "\u001b[0;31m---------------------------------------------------------------------------\u001b[0m",
      "\u001b[0;31mNameError\u001b[0m                                 Traceback (most recent call last)",
      "\u001b[0;32m<ipython-input-10-38c3383ba954>\u001b[0m in \u001b[0;36m<module>\u001b[0;34m\u001b[0m\n\u001b[1;32m      2\u001b[0m \u001b[0mproteome\u001b[0m\u001b[0;34m=\u001b[0m\u001b[0mfasta\u001b[0m\u001b[0;34m.\u001b[0m\u001b[0mread\u001b[0m\u001b[0;34m(\u001b[0m\u001b[0mgzip\u001b[0m\u001b[0;34m.\u001b[0m\u001b[0mopen\u001b[0m\u001b[0;34m(\u001b[0m\u001b[0;34m'knowledgebase/proteomes/YEAST.fasta.gz'\u001b[0m\u001b[0;34m,\u001b[0m\u001b[0;34m'rt'\u001b[0m\u001b[0;34m)\u001b[0m\u001b[0;34m)\u001b[0m\u001b[0;34m\u001b[0m\u001b[0;34m\u001b[0m\u001b[0m\n\u001b[1;32m      3\u001b[0m \u001b[0mdict1\u001b[0m\u001b[0;34m=\u001b[0m\u001b[0mproteomeBD\u001b[0m\u001b[0;34m(\u001b[0m\u001b[0mproteome\u001b[0m\u001b[0;34m,\u001b[0m\u001b[0;34m'trypsin'\u001b[0m\u001b[0;34m)\u001b[0m\u001b[0;34m\u001b[0m\u001b[0;34m\u001b[0m\u001b[0m\n\u001b[0;32m----> 4\u001b[0;31m \u001b[0mFastaSave\u001b[0m\u001b[0;34m(\u001b[0m\u001b[0mdict1\u001b[0m\u001b[0;34m,\u001b[0m\u001b[0;34m'knowledgebase/proteomes/new.fasta'\u001b[0m\u001b[0;34m)\u001b[0m\u001b[0;34m\u001b[0m\u001b[0;34m\u001b[0m\u001b[0m\n\u001b[0m\u001b[1;32m      5\u001b[0m \u001b[0mprint\u001b[0m\u001b[0;34m(\u001b[0m\u001b[0mtype\u001b[0m\u001b[0;34m(\u001b[0m\u001b[0mdict1\u001b[0m\u001b[0;34m.\u001b[0m\u001b[0mkeys\u001b[0m\u001b[0;34m(\u001b[0m\u001b[0;34m)\u001b[0m\u001b[0;34m)\u001b[0m\u001b[0;34m)\u001b[0m\u001b[0;34m\u001b[0m\u001b[0;34m\u001b[0m\u001b[0m\n\u001b[1;32m      6\u001b[0m \u001b[0mi\u001b[0m\u001b[0;34m=\u001b[0m\u001b[0;36m0\u001b[0m\u001b[0;34m\u001b[0m\u001b[0;34m\u001b[0m\u001b[0m\n",
      "\u001b[0;31mNameError\u001b[0m: name 'FastaSave' is not defined"
     ]
    }
   ],
   "source": [
    "#example\n",
    "proteome=fasta.read(gzip.open('knowledgebase/proteomes/YEAST.fasta.gz','rt'))\n",
    "dict1=proteomeBD(proteome,'trypsin')\n",
    "FastaSave(dict1,'knowledgebase/proteomes/new.fasta')\n",
    "print(type(dict1.keys()))\n",
    "i=0\n",
    "while i<3:\n",
    "    for i in dict1.keys():\n",
    "        print(i)\n",
    "print('Done')"
   ]
  },
  {
   "cell_type": "code",
   "execution_count": 21,
   "metadata": {},
   "outputs": [
    {
     "name": "stdout",
     "output_type": "stream",
     "text": [
      "VYALK\n",
      "DLLIGLLSR\n",
      "TWQQEMGLQDEK\n"
     ]
    }
   ],
   "source": [
    "#example\n",
    "i=0\n",
    "proteome=fasta.read(gzip.open('knowledgebase/proteomes/YEAST.fasta.gz','rt'))\n",
    "dict1=proteomeBD(proteome,'trypsin')\n",
    "for key in dict1.keys():\n",
    "    if i<3:\n",
    "        i=i+1\n",
    "    else:\n",
    "        break\n",
    "    print(key)"
   ]
  },
  {
   "cell_type": "markdown",
   "metadata": {},
   "source": [
    "# Сохранение словаря в формате fasta"
   ]
  },
  {
   "cell_type": "code",
   "execution_count": 11,
   "metadata": {},
   "outputs": [],
   "source": [
    "# передаем функции наш словарь и путь сохранения\n",
    "def FastaSave(diction,filePath):\n",
    "    file=open(filePath, 'w')\n",
    "    #начинаем запись\n",
    "    for key in diction:\n",
    "        string = '>'+key+'\\n'+diction[key]+'\\n'\n",
    "        file.write(string)\n",
    "    file.close()    "
   ]
  },
  {
   "cell_type": "markdown",
   "metadata": {},
   "source": [
    "# Создание пептидной базы при выбранных параметрах"
   ]
  },
  {
   "cell_type": "code",
   "execution_count": 12,
   "metadata": {},
   "outputs": [],
   "source": [
    "# параметрами будет являться протеом и фермент\n",
    "yeast='knowledgebase/proteomes/YEAST.fasta.gz'\n",
    "yeast_isoforms='knowledgebase/proteomes/YEAST_isoforms.fasta.gz'\n",
    "human='knowledgebase/proteomes/HUMAN.fasta.gz'\n",
    "human_isoforms='knowledgebase/proteomes/HUMAN_isoforms.fasta.gz'\n",
    "\n",
    "trypsin='trypsin'\n",
    "lysc='lysc'\n",
    "gluc='glutamyl endopeptidase'\n",
    "aspn='asp-n'\n",
    "argc='arg-c'"
   ]
  },
  {
   "cell_type": "code",
   "execution_count": 13,
   "metadata": {},
   "outputs": [
    {
     "name": "stdout",
     "output_type": "stream",
     "text": [
      "Введите цифру 1-4 для выбора протеома \n",
      " 1 yeast \n",
      " 2 yeast_isoform \n",
      " 3 human  \n",
      " 4 human_isoforms\n",
      "1\n",
      "yeast\n",
      "Введите цифру 1-5 для выбора протеазы \n",
      " 1 Trypsin \n",
      " 2 Lys-C \n",
      " 3 Glu-C  \n",
      " 4 Asp-N \n",
      " 5 Arg-C\n",
      "3\n",
      "Glu-C\n"
     ]
    }
   ],
   "source": [
    "# ввод параметров пользователем\n",
    "print(\"Введите цифру 1-4 для выбора протеома\",\"\\n 1 yeast\",\"\\n 2 yeast_isoform\",\"\\n 3 human \",\"\\n 4 human_isoforms\")\n",
    "a=int(input())\n",
    "path=''\n",
    "if a==1:\n",
    "    path=yeast\n",
    "    print('yeast')\n",
    "elif a==2:\n",
    "    path=yeast_isoforms\n",
    "    print('yeast_isoforms')\n",
    "elif a==3:\n",
    "    path=human\n",
    "    print('human')\n",
    "elif a==4:\n",
    "    path=human_isoforms\n",
    "    print('human_isoforms')\n",
    "else:\n",
    "    print('Ошибка')\n",
    "    \n",
    "print(\"Введите цифру 1-5 для выбора протеазы\",\"\\n 1 Trypsin\",\"\\n 2 Lys-C\",\"\\n 3 Glu-C \",\"\\n 4 Asp-N\",\"\\n 5 Arg-C\")\n",
    "b=int(input())\n",
    "enzyme=''\n",
    "if b==1:\n",
    "    enzyme=trypsin\n",
    "    print('trypsin')\n",
    "elif b==2:\n",
    "    enzyme=lysc\n",
    "    print('Lys-C')\n",
    "elif b==3:\n",
    "    enzyme=gluc\n",
    "    print('Glu-C')\n",
    "elif b==4:\n",
    "    enzyme=aspn\n",
    "    print('Asp-N')\n",
    "elif b==5:\n",
    "    enzyme=argc\n",
    "    print('Arg-C')    \n",
    "else:\n",
    "    print('Ошибка')    \n",
    "    "
   ]
  },
  {
   "cell_type": "code",
   "execution_count": 14,
   "metadata": {},
   "outputs": [
    {
     "name": "stdout",
     "output_type": "stream",
     "text": [
      "Пептидная база создана\n"
     ]
    }
   ],
   "source": [
    "#создание словаря на основании введенных параметров\n",
    "proteome=fasta.read(gzip.open(path,'rt'))\n",
    "dict1=proteomeBD(proteome,enzyme)\n",
    "print('Пептидная база создана')"
   ]
  },
  {
   "cell_type": "code",
   "execution_count": 15,
   "metadata": {},
   "outputs": [
    {
     "name": "stdout",
     "output_type": "stream",
     "text": [
      "Сохранить пептидную базу? \n",
      " 0-да \n",
      " 1-нет\n",
      "1\n",
      "Пептидная база не сохранена\n"
     ]
    }
   ],
   "source": [
    "#сохранение пептидной базы\n",
    "print(\"Сохранить пептидную базу?\",'\\n 0-да','\\n 1-нет')\n",
    "c=int(input())\n",
    "if c==0:\n",
    "    fpath=path[:path.find('.')]+'_'+enzyme+'.fasta'\n",
    "    FastaSave(dict1,fpath)\n",
    "elif c==1:\n",
    "    print('Пептидная база не сохранена')\n",
    "else:\n",
    "    print('Ошибка ввода')"
   ]
  },
  {
   "cell_type": "markdown",
   "metadata": {},
   "source": [
    "# Исследование полученной пептидной базы"
   ]
  },
  {
   "cell_type": "markdown",
   "metadata": {},
   "source": [
    "## 1.Поиск неуникальных пептидов"
   ]
  },
  {
   "cell_type": "code",
   "execution_count": 16,
   "metadata": {},
   "outputs": [
    {
     "name": "stdout",
     "output_type": "stream",
     "text": [
      "Неуникальных пептидов : 13316\n",
      "Уникальных пептидов : 479078\n"
     ]
    }
   ],
   "source": [
    "unun_peptides=set()\n",
    "un_peptides=set()\n",
    "for key in dict1.keys():\n",
    "    if (dict1[key].count(' '))!=0:\n",
    "        unun_peptides.add(key)\n",
    "    else:\n",
    "        un_peptides.add(key)\n",
    "#print(unun_peptides)\n",
    "print(\"Неуникальных пептидов :\",len(unun_peptides))\n",
    "print(\"Уникальных пептидов :\",len(un_peptides)) "
   ]
  },
  {
   "cell_type": "markdown",
   "metadata": {},
   "source": [
    "## 2.Распределение пептидов по длине"
   ]
  },
  {
   "cell_type": "code",
   "execution_count": 17,
   "metadata": {},
   "outputs": [],
   "source": [
    "#создаем массив длин уникальных пептидов\n",
    "lengths=[]\n",
    "for peptides in un_peptides:\n",
    "    lengths.append(len(peptides))\n",
    "lengths.sort()    \n",
    "#создаем словарь, где ключ-длина,а значение - количество пептидов с такой длиной    \n",
    "length=dict()\n",
    "for elem in lengths:\n",
    "    if elem in length:\n",
    "        length[elem]+=1\n",
    "    else:\n",
    "        length[elem]=1\n",
    "\n",
    "#i=0\n",
    "#for key in length.keys():\n",
    " #   if i<6:\n",
    "  #      i=i+1\n",
    "   # else:\n",
    "    #    break\n",
    "   # print(key,length[key])        \n",
    "        "
   ]
  },
  {
   "cell_type": "code",
   "execution_count": 18,
   "metadata": {},
   "outputs": [
    {
     "name": "stdout",
     "output_type": "stream",
     "text": [
      "Максимальная частота встречаемости: 15655\n",
      "Длина максимально часто встречающихся пептидов: [7]\n"
     ]
    }
   ],
   "source": [
    "#найдем максимум распределения\n",
    "size=np.array(list(length.keys()))\n",
    "frequency=np.array(list(length.values()))\n",
    "max_frequency=max(frequency)\n",
    "print(\"Максимальная частота встречаемости:\",max_frequency)\n",
    "#ищем длину пептидов с максимальной частотой встречаемости\n",
    "maximum=[]\n",
    "for i in range(len(frequency)):\n",
    "    if frequency[i]==max_frequency:\n",
    "        maximum.append(size[i])\n",
    "print(\"Длина максимально часто встречающихся пептидов:\",maximum)        "
   ]
  },
  {
   "cell_type": "code",
   "execution_count": 19,
   "metadata": {},
   "outputs": [
    {
     "name": "stdout",
     "output_type": "stream",
     "text": [
      "Ширина на полувысоте: 22\n"
     ]
    }
   ],
   "source": [
    "#найдем ширину на полувысоте\n",
    "half_hight=max_frequency//2\n",
    "h=[]\n",
    "for i in range(len(frequency)):\n",
    "    if frequency[i]>=half_hight:\n",
    "        h.append(size[i])\n",
    "left=max(h)\n",
    "right=min(h)\n",
    "width=left-right\n",
    "print(\"Ширина на полувысоте:\",width)        "
   ]
  },
  {
   "cell_type": "code",
   "execution_count": 20,
   "metadata": {},
   "outputs": [
    {
     "data": {
      "text/plain": [
       "<BarContainer object of 386 artists>"
      ]
     },
     "execution_count": 20,
     "metadata": {},
     "output_type": "execute_result"
    },
    {
     "data": {
      "image/png": "[encoded data removed]",
      "text/plain": [
       "<Figure size 720x720 with 1 Axes>"
      ]
     },
     "metadata": {
      "needs_background": "light"
     },
     "output_type": "display_data"
    }
   ],
   "source": [
    "#гистограмма\n",
    "plt.figure(figsize= (10,10))\n",
    "jet = plt.get_cmap('jet')\n",
    "plt.bar(range(len(length)), length.values(), align='center', color=jet(np.linspace(0, 1.0, 100)))\n",
    "\n",
    "#tck = interpolate.splrep(size, frequency, s=10**6, k = 2 )\n",
    "#yder = interpolate.splev(size, tck)"
   ]
  },
  {
   "cell_type": "markdown",
   "metadata": {},
   "source": [
    "## 3.Распределение пептидов по моноизотопной массе"
   ]
  },
  {
   "cell_type": "code",
   "execution_count": 21,
   "metadata": {},
   "outputs": [],
   "source": [
    "#считаем массив масс уникальных пептидов\n",
    "masses=[]\n",
    "for peptides in un_peptides:\n",
    "    masses.append(calculate_mass(peptides))\n",
    "masses.sort()    \n",
    "#создаем словарь, где ключ-масса,а значение - количество пептидов с такой массой    \n",
    "mass=dict()\n",
    "for elem in masses:\n",
    "    if elem in mass:\n",
    "        mass[elem]+=1\n",
    "    else:\n",
    "        mass[elem]=1   \n"
   ]
  },
  {
   "cell_type": "code",
   "execution_count": 22,
   "metadata": {},
   "outputs": [
    {
     "name": "stdout",
     "output_type": "stream",
     "text": [
      "Максимальная частота встречаемости: 65\n",
      "Масса максимально часто встречающихся пептидов: [590.2547706821799]\n"
     ]
    }
   ],
   "source": [
    "#найдем максимум распределения\n",
    "weight=np.array(list(mass.keys()))\n",
    "frequency=np.array(list(mass.values()))\n",
    "max_frequency=max(frequency)\n",
    "print(\"Максимальная частота встречаемости:\",max_frequency)\n",
    "#ищем длину пептидов с максимальной частотой встречаемости\n",
    "Max=[]\n",
    "for i in range(len(frequency)):\n",
    "    if frequency[i]==max_frequency:\n",
    "        Max.append(weight[i])\n",
    "print(\"Масса максимально часто встречающихся пептидов:\",Max)"
   ]
  },
  {
   "cell_type": "code",
   "execution_count": 23,
   "metadata": {},
   "outputs": [
    {
     "name": "stdout",
     "output_type": "stream",
     "text": [
      "Ширина на полувысоте: 285.16885623024996\n"
     ]
    }
   ],
   "source": [
    "#найдем ширину на полувысоте\n",
    "half_hight=max_frequency//2\n",
    "w=[]\n",
    "for i in range(len(frequency)):\n",
    "    if frequency[i]>=half_hight:\n",
    "        w.append(weight[i])\n",
    "left=max(w)\n",
    "right=min(w)\n",
    "width=left-right\n",
    "print(\"Ширина на полувысоте:\",width)   "
   ]
  },
  {
   "cell_type": "code",
   "execution_count": null,
   "metadata": {},
   "outputs": [
    {
     "data": {
      "text/plain": [
       "<BarContainer object of 391006 artists>"
      ]
     },
     "execution_count": 24,
     "metadata": {},
     "output_type": "execute_result"
    }
   ],
   "source": [
    "#гистограмма\n",
    "plt.figure(figsize= (10,10))\n",
    "jet = plt.get_cmap('jet')\n",
    "plt.bar(weight, mass.values(), align='center', color=jet(np.linspace(0, 1.0,10000 )))"
   ]
  },
  {
   "cell_type": "markdown",
   "metadata": {},
   "source": [
    "# Третья часть задания"
   ]
  },
  {
   "cell_type": "code",
   "execution_count": 25,
   "metadata": {},
   "outputs": [
    {
     "name": "stdout",
     "output_type": "stream",
     "text": [
      "Введите цифру 1-4 для выбора протеома \n",
      " 1 yeast \n",
      " 2 yeast_isoform \n",
      " 3 human  \n",
      " 4 human_isoforms\n",
      "1\n",
      "yeast\n"
     ]
    }
   ],
   "source": [
    "# выбираем протеом для исследования\n",
    "print(\"Введите цифру 1-4 для выбора протеома\",\"\\n 1 yeast\",\"\\n 2 yeast_isoform\",\"\\n 3 human \",\"\\n 4 human_isoforms\")\n",
    "a=int(input())\n",
    "path=''\n",
    "if a==1:\n",
    "    path='knowledgebase/proteomes/YEAST.fasta.gz'\n",
    "    print('yeast')\n",
    "elif a==2:\n",
    "    path='knowledgebase/proteomes/YEAST_isoforms.fasta.gz'\n",
    "    print('yeast_isoforms')\n",
    "elif a==3:\n",
    "    path='knowledgebase/proteomes/HUMAN.fasta.gz'\n",
    "    print('human')\n",
    "elif a==4:\n",
    "    path='knowledgebase/proteomes/HUMAN_isoforms.fasta.gz' \n",
    "    print('human_isoforms')\n",
    "else:\n",
    "    print('Ошибка')    "
   ]
  },
  {
   "cell_type": "markdown",
   "metadata": {},
   "source": [
    "## 1. Оценка частоты встречаемости аминокислот"
   ]
  },
  {
   "cell_type": "code",
   "execution_count": 26,
   "metadata": {},
   "outputs": [],
   "source": [
    "#создаем словарь, в котором аминокислота-ключ,значение-встречаемость в белках\n",
    "amino=dict()\n",
    "for description, sequence in fasta.read(gzip.open(path,'rt')):\n",
    "    for i in range(len(sequence)):\n",
    "        a=sequence[i]\n",
    "        if a in amino:\n",
    "            amino[a]+=1\n",
    "        else:\n",
    "            amino[a]=1\n",
    "\n",
    "amino_acid=np.array(list(amino.keys()))\n",
    "frequency=np.array(list(amino.values()))"
   ]
  },
  {
   "cell_type": "code",
   "execution_count": 27,
   "metadata": {},
   "outputs": [],
   "source": [
    "#определяем наиболее часто встречаемую аминокислоту\n",
    "max_frequency=max(frequency)\n",
    "amino_max=''\n",
    "for i in range(len(frequency)):\n",
    "    if frequency[i]==max_frequency:\n",
    "        amino_max=amino_acid[i]"
   ]
  },
  {
   "cell_type": "code",
   "execution_count": 28,
   "metadata": {},
   "outputs": [
    {
     "name": "stdout",
     "output_type": "stream",
     "text": [
      "Наиболее часто встречающаяся аминокислота: L\n"
     ]
    },
    {
     "data": {
      "image/png": "[encoded data removed]",
      "text/plain": [
       "<Figure size 720x720 with 1 Axes>"
      ]
     },
     "metadata": {
      "needs_background": "light"
     },
     "output_type": "display_data"
    }
   ],
   "source": [
    "#гистограмма\n",
    "plt.figure(figsize= (10,10))\n",
    "jet = plt.get_cmap('jet')\n",
    "plt.bar(range(len(amino)), amino.values(), align='center', color=jet(np.linspace(0, 1.0, 100)))\n",
    "plt.xticks(np.arange(len(amino_acid)), amino_acid)\n",
    "plt.title('Частота встречаемости аминокислот')\n",
    "print(\"Наиболее часто встречающаяся аминокислота:\",amino_max)"
   ]
  },
  {
   "cell_type": "markdown",
   "metadata": {},
   "source": [
    "## 2. Оценка частоты встречаемости сочетаний Lys-AA, Arg-AA,Glu-AA,AA-Asp"
   ]
  },
  {
   "cell_type": "markdown",
   "metadata": {},
   "source": [
    "### Вариант 1: выбираем интересующее нас сочетание и оцениваем частоту его встречаемости"
   ]
  },
  {
   "cell_type": "code",
   "execution_count": 29,
   "metadata": {},
   "outputs": [
    {
     "name": "stdout",
     "output_type": "stream",
     "text": [
      "Выберите рассматриваемое сочетание: \n",
      " 1 Lys-AA \n",
      " 2 Arg-AA \n",
      " 3 Glu-AA \n",
      " 4 AA-Asp\n",
      "4\n",
      "AA-Asp\n"
     ]
    }
   ],
   "source": [
    "print(\"Выберите рассматриваемое сочетание:\",'\\n 1 Lys-AA','\\n 2 Arg-AA','\\n 3 Glu-AA','\\n 4 AA-Asp')\n",
    "a=int(input())\n",
    "s=''\n",
    "if a==1:\n",
    "    s='K'\n",
    "    print('Lys-AA')\n",
    "elif a==2:\n",
    "    s='R'\n",
    "    print('Arg-AA')\n",
    "elif a==3:\n",
    "    s='E'\n",
    "    print('Glu-AA')\n",
    "elif a==4:\n",
    "    s='D'\n",
    "    print('AA-Asp')\n",
    "else:\n",
    "    print('Ошибка ввода')"
   ]
  },
  {
   "cell_type": "code",
   "execution_count": 30,
   "metadata": {},
   "outputs": [],
   "source": [
    "#создаем список наших сочетаний (amino_acid-массив кислот, встречаемых в данной протеомной БД)\n",
    "amino_combo=[]\n",
    "if s.count('D')==0:\n",
    "    for i in range(len(amino_acid)):\n",
    "        amino_combo.append(amino_acid[i]+s)\n",
    "else:\n",
    "    for i in range(len(amino_acid)):\n",
    "        amino_combo.append(s+amino_acid[i])"
   ]
  },
  {
   "cell_type": "code",
   "execution_count": 31,
   "metadata": {},
   "outputs": [],
   "source": [
    "#создаем словарь, где ключи-сочетания,значения-встречаемость сочетания\n",
    "aminoComb=dict()\n",
    "for description, sequence in fasta.read(gzip.open(path,'rt')):\n",
    "    for i in range(len(amino_combo)):\n",
    "        a=amino_combo[i]\n",
    "        if a in aminoComb:\n",
    "            aminoComb[a]+=sequence.count(a)\n",
    "        else:\n",
    "            aminoComb[a]=sequence.count(a)\n",
    "\n",
    "amino_s=np.array(list(aminoComb.keys()))\n",
    "frequency=np.array(list(aminoComb.values()))"
   ]
  },
  {
   "cell_type": "code",
   "execution_count": 32,
   "metadata": {},
   "outputs": [
    {
     "name": "stdout",
     "output_type": "stream",
     "text": [
      "Наиболее часто встречающееся сочетание: DL\n"
     ]
    }
   ],
   "source": [
    "#определяем наиболее часто встречаемое сочетание\n",
    "max_frequency=max(frequency)\n",
    "amino_combomax=''\n",
    "for i in range(len(frequency)):\n",
    "    if frequency[i]==max_frequency:\n",
    "        amino_combomax=amino_s[i]\n",
    "print(\"Наиболее часто встречающееся сочетание:\",amino_combomax)        "
   ]
  },
  {
   "cell_type": "markdown",
   "metadata": {},
   "source": [
    "### Вариант 2: рассматриваем сразу все сочетания и строим гистограмму с их встречаемостью"
   ]
  },
  {
   "cell_type": "code",
   "execution_count": 33,
   "metadata": {},
   "outputs": [],
   "source": [
    "amino_combo_1=[]\n",
    "s=['K','R','E','D']\n",
    "k=0\n",
    "while k<len(s):\n",
    "    if s[k].count('D')==0:\n",
    "        for i in range(len(amino_acid)):\n",
    "            amino_combo_1.append(amino_acid[i]+s[k])\n",
    "        k=k+1\n",
    "    else:\n",
    "        for i in range(len(amino_acid)):\n",
    "            amino_combo_1.append(s[k]+amino_acid[i])\n",
    "        k=k+1   "
   ]
  },
  {
   "cell_type": "code",
   "execution_count": 34,
   "metadata": {},
   "outputs": [],
   "source": [
    "#создаем словарь, где ключи-сочетания,значения-встречаемость сочетания\n",
    "aminoComb1=dict()\n",
    "for description, sequence in fasta.read(gzip.open(path,'rt')):\n",
    "    for i in range(len(amino_combo_1)):\n",
    "        a=amino_combo_1[i]\n",
    "        if a in aminoComb1:\n",
    "            aminoComb1[a]+=sequence.count(a)\n",
    "        else:\n",
    "            aminoComb1[a]=sequence.count(a)\n",
    "\n",
    "amino_s1=np.array(list(aminoComb1.keys()))\n",
    "frequency1=np.array(list(aminoComb1.values()))"
   ]
  },
  {
   "cell_type": "code",
   "execution_count": 35,
   "metadata": {},
   "outputs": [
    {
     "name": "stdout",
     "output_type": "stream",
     "text": [
      "Наиболее часто встречающееся сочетание: DE\n"
     ]
    }
   ],
   "source": [
    "#определяем наиболее часто встречающееся сочетание\n",
    "max_frequency1=max(frequency1)\n",
    "amino_combomax1=''\n",
    "for i in range(len(frequency1)):\n",
    "    if frequency1[i]==max_frequency1:\n",
    "        amino_combomax1=amino_s1[i]\n",
    "print(\"Наиболее часто встречающееся сочетание:\",amino_combomax1)"
   ]
  },
  {
   "cell_type": "code",
   "execution_count": 36,
   "metadata": {
    "scrolled": true
   },
   "outputs": [
    {
     "name": "stdout",
     "output_type": "stream",
     "text": [
      "Наиболее часто встречающееся сочетание: DE\n"
     ]
    },
    {
     "data": {
      "image/png": "[encoded data removed]",
      "text/plain": [
       "<Figure size 1800x1800 with 1 Axes>"
      ]
     },
     "metadata": {
      "needs_background": "light"
     },
     "output_type": "display_data"
    }
   ],
   "source": [
    "#гистограмма\n",
    "plt.figure(figsize= (25,25))\n",
    "jet = plt.get_cmap('jet')\n",
    "plt.bar(range(len(aminoComb1)), aminoComb1.values(), align='center', color=jet(np.linspace(0, 1.0, 1000)))\n",
    "plt.xticks(np.arange(len(amino_s1)), amino_s1)\n",
    "plt.title('Частота встречаемости сочетаний Lys-AA, Arg-AA,Glu-AA,AA-Asp')\n",
    "print(\"Наиболее часто встречающееся сочетание:\",amino_combomax1)"
   ]
  },
  {
   "cell_type": "markdown",
   "metadata": {},
   "source": [
    "# Target-decoy"
   ]
  },
  {
   "cell_type": "markdown",
   "metadata": {},
   "source": [
    "## 1. Подготовка proteom_reserved.fasta"
   ]
  },
  {
   "cell_type": "markdown",
   "metadata": {},
   "source": [
    "### Дрожжи"
   ]
  },
  {
   "cell_type": "code",
   "execution_count": 58,
   "metadata": {},
   "outputs": [
    {
     "data": {
      "text/plain": [
       "'knowledgebase/proteomes/YEAST_reserved.fasta.gz'"
      ]
     },
     "execution_count": 58,
     "metadata": {},
     "output_type": "execute_result"
    }
   ],
   "source": [
    "#создаем копию исходной белковой базы, будем далее работать с копией\n",
    "#shutil.copy2('knowledgebase/proteomes/YEAST_isoforms.fasta.gz', 'knowledgebase/proteomes/YEAST_reserved.fasta.gz')"
   ]
  },
  {
   "cell_type": "code",
   "execution_count": 37,
   "metadata": {},
   "outputs": [],
   "source": [
    "# создаем белковую базу из исходных белков+decoy\n",
    "seq=''\n",
    "name=''\n",
    "file=open('knowledgebase/proteomes/YEAST_reserved.fasta', 'w')\n",
    "for description,sequence in fasta.read(gzip.open('knowledgebase/proteomes/YEAST_isoforms.fasta.gz','rt')):\n",
    "    #записываем исходный белок\n",
    "    file.write('>'+description+'\\n'+sequence+'\\n')\n",
    "    #записываем decoy\n",
    "    seq=fasta.reverse(sequence)\n",
    "    name='>'+description +'_reversed'\n",
    "    file.write(name+'\\n'+seq+'\\n')\n",
    "file.close()   \n",
    "    "
   ]
  },
  {
   "cell_type": "markdown",
   "metadata": {},
   "source": [
    "### Человек"
   ]
  },
  {
   "cell_type": "code",
   "execution_count": 60,
   "metadata": {},
   "outputs": [
    {
     "data": {
      "text/plain": [
       "'knowledgebase/proteomes/HUMAN_reserved.fasta.gz'"
      ]
     },
     "execution_count": 60,
     "metadata": {},
     "output_type": "execute_result"
    }
   ],
   "source": [
    "#создаем копию исходной белковой базы, будем далее работать с копией\n",
    "#shutil.copy2('knowledgebase/proteomes/HUMAN_isoforms.fasta.gz', 'knowledgebase/proteomes/HUMAN_reserved.fasta.gz')"
   ]
  },
  {
   "cell_type": "code",
   "execution_count": 38,
   "metadata": {},
   "outputs": [],
   "source": [
    "#дописываем в конец исходной белковой базы decoy-белки\n",
    "seq=''\n",
    "name=''\n",
    "file=open('knowledgebase/proteomes/HUMAN_reserved.fasta', 'w')\n",
    "for description,sequence in fasta.read(gzip.open('knowledgebase/proteomes/HUMAN_isoforms.fasta.gz','rt')):\n",
    "    #записываем исходный белок\n",
    "    file.write('>'+description+'\\n'+sequence+'\\n')\n",
    "    #записываем decoy\n",
    "    seq=fasta.reverse(sequence)\n",
    "    name='>'+description +'_reversed'\n",
    "    file.write(name+'\\n'+seq+'\\n')\n",
    "file.close()"
   ]
  },
  {
   "cell_type": "markdown",
   "metadata": {},
   "source": [
    "## 2. Подготовка proteom_shuffled.fasta"
   ]
  },
  {
   "cell_type": "markdown",
   "metadata": {},
   "source": [
    "### Дрожжи"
   ]
  },
  {
   "cell_type": "code",
   "execution_count": 63,
   "metadata": {},
   "outputs": [
    {
     "data": {
      "text/plain": [
       "'knowledgebase/proteomes/YEAST_shuffled.fasta.gz'"
      ]
     },
     "execution_count": 63,
     "metadata": {},
     "output_type": "execute_result"
    }
   ],
   "source": [
    "#создаем копию исходной белковой базы, будем далее работать с копией\n",
    "#shutil.copy2('knowledgebase/proteomes/YEAST_isoforms.fasta.gz', 'knowledgebase/proteomes/YEAST_shuffled.fasta.gz')"
   ]
  },
  {
   "cell_type": "code",
   "execution_count": 39,
   "metadata": {},
   "outputs": [],
   "source": [
    "#дописываем в конец исходной белковой базы decoy-белки\n",
    "seq=''\n",
    "name=''\n",
    "file=open('knowledgebase/proteomes/YEAST_shuffled.fasta', 'w')\n",
    "for description,sequence in fasta.read(gzip.open('knowledgebase/proteomes/YEAST_isoforms.fasta.gz','rt')):\n",
    "    #записываем исходный белок\n",
    "    file.write('>'+description+'\\n'+sequence+'\\n')\n",
    "    #записываем decoy\n",
    "    seq=fasta.shuffle(sequence)\n",
    "    name='>'+description +'_shuffled'\n",
    "    file.write(name+'\\n'+seq+'\\n')\n",
    "file.close()  "
   ]
  },
  {
   "cell_type": "markdown",
   "metadata": {},
   "source": [
    "### Человек"
   ]
  },
  {
   "cell_type": "code",
   "execution_count": 34,
   "metadata": {},
   "outputs": [
    {
     "data": {
      "text/plain": [
       "'knowledgebase/proteomes/HUMAN_shuffled.fasta.gz'"
      ]
     },
     "execution_count": 34,
     "metadata": {},
     "output_type": "execute_result"
    }
   ],
   "source": [
    "#создаем копию исходной белковой базы, будем далее работать с копией\n",
    "#shutil.copy2('knowledgebase/proteomes/HUMAN_isoforms.fasta.gz', 'knowledgebase/proteomes/HUMAN_shuffled.fasta.gz')"
   ]
  },
  {
   "cell_type": "code",
   "execution_count": 40,
   "metadata": {},
   "outputs": [],
   "source": [
    "#дописываем в конец исходной белковой базы decoy-белки\n",
    "seq=''\n",
    "name=''\n",
    "file=open('knowledgebase/proteomes/HUMAN_shuffled.fasta', 'a')\n",
    "for description,sequence in fasta.read(gzip.open('knowledgebase/proteomes/HUMAN_isoforms.fasta.gz','rt')):\n",
    "    #записываем исходный белок\n",
    "    file.write('>'+description+'\\n'+sequence+'\\n')\n",
    "    #записываем decoy\n",
    "    seq=fasta.shuffle(sequence)\n",
    "    name='>'+description +'_shuffled'\n",
    "    file.write(name+'\\n'+seq+'\\n')\n",
    "file.close()  "
   ]
  },
  {
   "cell_type": "markdown",
   "metadata": {},
   "source": [
    "## Создание модифицированных баз"
   ]
  },
  {
   "cell_type": "markdown",
   "metadata": {},
   "source": [
    "### 1. Создание модифицированной белковой базы дрожжей"
   ]
  },
  {
   "cell_type": "code",
   "execution_count": 41,
   "metadata": {},
   "outputs": [],
   "source": [
    "# рассматриваем базу канонических белков, записываем уникальные пептиды\n",
    "unique_peptides_can = set()\n",
    "for description, sequence in fasta.read(gzip.open('knowledgebase/proteomes/YEAST.fasta.gz','rt')):\n",
    "    new_peptides = parser.cleave(sequence, parser.expasy_rules['trypsin'])\n",
    "    unique_peptides_can.update(new_peptides)"
   ]
  },
  {
   "cell_type": "code",
   "execution_count": 42,
   "metadata": {},
   "outputs": [],
   "source": [
    "# рассматриваем базу изоформ, создаем словарь где ключ-белок-изоформа, \n",
    "# а значение- набор уникальных пептидов, отличающих канонический белок от изоформы\n",
    "isodict=dict()\n",
    "# открыли белковую базу, начали чтение\n",
    "for description, sequence in fasta.read(gzip.open('knowledgebase/proteomes/YEAST_isoforms.fasta.gz','rt')):\n",
    "    # ищем в описании белка указание на то, что это изоформа\n",
    "    if description.count('Isoform')!=0:\n",
    "        #получили набор пептидов\n",
    "        peptides = parser.cleave(sequence, parser.expasy_rules['trypsin'])\n",
    "        #нужно проверить, есть ли эти пептиды в уникальных пептидах канонического белка\n",
    "        for elem in peptides:\n",
    "            # если пептид принадлежит уникальным пептидам канонического белка, то он нас не интересует\n",
    "            if elem in unique_peptides_can:\n",
    "                continue\n",
    "            # в другом случае,добавляем его в словарь по ключу-описанию    \n",
    "            else:\n",
    "                if description in isodict:\n",
    "                    isodict[description]=isodict[description]+' '+elem\n",
    "                else:\n",
    "                    isodict[description]=elem"
   ]
  },
  {
   "cell_type": "code",
   "execution_count": 43,
   "metadata": {},
   "outputs": [],
   "source": [
    "#записываем модифицированную базу:сначала канонические белки, потом изоформы в виде набора пептидов\n",
    "file=open('knowledgebase/proteomes/YEAST_mod.fasta', 'w')\n",
    "for description, sequence in fasta.read(gzip.open('knowledgebase/proteomes/YEAST.fasta.gz','rt')):\n",
    "    file.write('>'+description+'\\n'+sequence+'\\n')\n",
    "for key in isodict:\n",
    "    file.write('>'+key+'\\n'+isodict[key]+'\\n')\n",
    "file.close()"
   ]
  },
  {
   "cell_type": "markdown",
   "metadata": {},
   "source": [
    "### 2. Создание модифицированной белковой базы человека"
   ]
  },
  {
   "cell_type": "code",
   "execution_count": 44,
   "metadata": {},
   "outputs": [],
   "source": [
    "# рассматриваем базу канонических белков, записываем уникальные пептиды\n",
    "unique_peptides_can = set()\n",
    "for description, sequence in fasta.read(gzip.open('knowledgebase/proteomes/HUMAN.fasta.gz','rt')):\n",
    "    new_peptides = parser.cleave(sequence, parser.expasy_rules['trypsin'])\n",
    "    unique_peptides_can.update(new_peptides)"
   ]
  },
  {
   "cell_type": "code",
   "execution_count": 45,
   "metadata": {},
   "outputs": [],
   "source": [
    "# рассматриваем базу изоформ, создаем словарь где ключ-белок-изоформа, \n",
    "# а значение- набор уникальных пептидов, отличающих канонический белок от изоформы\n",
    "isodict=dict()\n",
    "# открыли белковую базу, начали чтение\n",
    "for description, sequence in fasta.read(gzip.open('knowledgebase/proteomes/HUMAN_isoforms.fasta.gz','rt')):\n",
    "    # ищем в описании белка указание на то, что это изоформа\n",
    "    if description.count('Isoform')!=0:\n",
    "        #получили набор пептидов\n",
    "        peptides = parser.cleave(sequence, parser.expasy_rules['trypsin'])\n",
    "        #нужно проверить, есть ли эти пептиды в уникальных пептидах канонического белка\n",
    "        for elem in peptides:\n",
    "            # если пептид принадлежит уникальным пептидам канонического белка, то он нас не интересует\n",
    "            if elem in unique_peptides_can:\n",
    "                continue\n",
    "            # в другом случае,добавляем его в словарь по ключу-описанию    \n",
    "            else:\n",
    "                if description in isodict:\n",
    "                    isodict[description]=isodict[description]+' '+elem\n",
    "                else:\n",
    "                    isodict[description]=elem"
   ]
  },
  {
   "cell_type": "code",
   "execution_count": 46,
   "metadata": {},
   "outputs": [],
   "source": [
    "#записываем модифицированную базу:сначала канонические белки, потом изоформы в виде набора пептидов\n",
    "file=open('knowledgebase/proteomes/HUMAN_mod.fasta', 'w')\n",
    "for description, sequence in fasta.read(gzip.open('knowledgebase/proteomes/HUMAN.fasta.gz','rt')):\n",
    "    file.write('>'+description+'\\n'+sequence+'\\n')\n",
    "for key in isodict:\n",
    "    file.write('>'+key+'\\n'+isodict[key]+'\\n')\n",
    "file.close()"
   ]
  },
  {
   "cell_type": "markdown",
   "metadata": {},
   "source": [
    "## Добавление декойных последовательностей к модифицированным базам"
   ]
  },
  {
   "cell_type": "markdown",
   "metadata": {},
   "source": [
    "### 1. Подготовка mod_shuffled.fasta"
   ]
  },
  {
   "cell_type": "markdown",
   "metadata": {},
   "source": [
    "### Дрожжи"
   ]
  },
  {
   "cell_type": "code",
   "execution_count": 47,
   "metadata": {},
   "outputs": [],
   "source": [
    "seq=''\n",
    "name=''\n",
    "#создаем новый файл для записи декойных последовательностей\n",
    "file=open('knowledgebase/proteomes/YEAST_mod_shuffled.fasta', 'w')\n",
    "for description,sequence in fasta.read('knowledgebase/proteomes/YEAST_mod.fasta'):\n",
    "    #рассматирваем случай, когда белок канонический\n",
    "    if description.count('Isoform')==0:     \n",
    "        #записываем исходный белок\n",
    "        file.write('>'+description+'\\n'+sequence+'\\n')\n",
    "        #записываем decoy\n",
    "        seq=fasta.shuffle(sequence)\n",
    "        name='>'+description +'_shuffled'\n",
    "        file.write(name+'\\n'+seq+'\\n')\n",
    "        \n",
    "    # случай изоформы    \n",
    "    else:\n",
    "        #записываем исходный белок\n",
    "        file.write('>'+description+'\\n'+sequence+'\\n')\n",
    "        \n",
    "        #превращаем строку пептидов в массив\n",
    "        peptides=[]\n",
    "        k=0\n",
    "        for i in range(len(sequence)):\n",
    "            if sequence[i]==' ':\n",
    "                peptides.append(sequence[k:i])\n",
    "                k=i+1\n",
    "            elif (i==len(sequence)-1):\n",
    "                peptides.append(sequence[k:i+1])\n",
    "        # будем работать с пептидами как с элементами массива:заморозим позиции Lys,Arg и Lys-Pro,Arg-Pro и применим shuffle\n",
    "        res=''\n",
    "        for elem in peptides:\n",
    "        #создаем массив с позициями интересующих нас аминокислот\n",
    "            seat=[]\n",
    "            #бежим по пептиду и фиксируем положения аминоксилот\n",
    "            for i in range(len(elem)):\n",
    "                if i!=0 and ((elem[i]=='P' and elem[i-1]=='K') or (elem[i]=='P' and elem[i-1]=='R')):    \n",
    "                    seat.append(2)\n",
    "                elif elem[i]=='R' or elem[i]=='K':\n",
    "                    seat.append(1)\n",
    "                else:\n",
    "                    seat.append(0)\n",
    "            #создаем массив для перестановки аминокислот в пептиде\n",
    "            shuffle_part=[]\n",
    "            for i in range(len(elem)):\n",
    "                if seat[i]==0:\n",
    "                    shuffle_part.append(elem[i])\n",
    "            random.shuffle(shuffle_part)\n",
    "            #восстанавливаем пептид\n",
    "            k=0\n",
    "            recovery=[]\n",
    "            for i in range(len(elem)):\n",
    "                if seat[i]==0:\n",
    "                    recovery.append(shuffle_part[k])\n",
    "                    k+=1\n",
    "                else:\n",
    "                    recovery.append(elem[i])\n",
    "            #делаем из набора кислот строку\n",
    "            pept=''\n",
    "            for i in range(len(recovery)):\n",
    "                if pept=='':\n",
    "                    pept=recovery[i]\n",
    "                else:\n",
    "                    pept=pept+recovery[i]\n",
    "            #добавляем в строку пептидов        \n",
    "            if res=='':\n",
    "                res=pept\n",
    "            else:\n",
    "                res=res+' '+pept\n",
    "        #записываем decoy пептиды в фаил\n",
    "        file.write('>'+description+'_shuffled'+'\\n'+res+'\\n')\n",
    "file.close()        \n",
    "        \n",
    "#        shuffled_peptides=[]\n",
    "#        for elem in peptides:\n",
    "#            if ((elem[0]=='K') or (elem[0]=='R')) and ((elem[-1]=='K') or (elem[-1]=='R')):\n",
    "#                shuffled_peptides.append(fasta.shuffle(elem,keep_nterm=True, keep_cterm=True))\n",
    "#            elif (elem[-1]=='K') or (elem[-1]=='R'):\n",
    "#                shuffled_peptides.append(fasta.shuffle(elem,keep_nterm=False, keep_cterm=True))\n",
    "        #запишем decoy пептиды в одну строку\n",
    "#        s=''\n",
    "#        for elem in shuffled_peptides:\n",
    "#            if s=='':\n",
    "#                s=elem\n",
    "#            else:\n",
    "#                s=s+' '+elem\n",
    "        #записываем decoy пептиды в фаил\n",
    "#        file.write('>'+description+'_shuffled'+'\\n'+s+'\\n')\n",
    "#file.close() "
   ]
  },
  {
   "cell_type": "markdown",
   "metadata": {},
   "source": [
    "### Человек"
   ]
  },
  {
   "cell_type": "code",
   "execution_count": 48,
   "metadata": {},
   "outputs": [],
   "source": [
    "seq=''\n",
    "name=''\n",
    "#создаем новый файл для записи декойных последовательностей\n",
    "file=open('knowledgebase/proteomes/HUMAN_mod_shuffled.fasta', 'w')\n",
    "for description,sequence in fasta.read('knowledgebase/proteomes/HUMAN_mod.fasta'):\n",
    "    #рассматирваем случай, когда белок канонический\n",
    "    if description.count('Isoform')==0:     \n",
    "        #записываем исходный белок\n",
    "        file.write('>'+description+'\\n'+sequence+'\\n')\n",
    "        #записываем decoy\n",
    "        seq=fasta.shuffle(sequence)\n",
    "        name='>'+description +'_shuffled'\n",
    "        file.write(name+'\\n'+seq+'\\n')\n",
    "        \n",
    "    # случай изоформы    \n",
    "    else:\n",
    "        #записываем исходный белок\n",
    "        file.write('>'+description+'\\n'+sequence+'\\n')\n",
    "        \n",
    "        #превращаем строку пептидов в массив\n",
    "        peptides=[]\n",
    "        k=0\n",
    "        for i in range(len(sequence)):\n",
    "            if sequence[i]==' ':\n",
    "                peptides.append(sequence[k:i])\n",
    "                k=i+1\n",
    "            elif (i==len(sequence)-1):\n",
    "                peptides.append(sequence[k:i+1])\n",
    "        # будем работать с пептидами как с элементами массива:заморозим позиции Lys,Arg и Lys-Pro,Arg-Pro и применим shuffle\n",
    "        res=''\n",
    "        for elem in peptides:\n",
    "        #создаем массив с позициями интересующих нас аминокислот\n",
    "            seat=[]\n",
    "            #бежим по пептиду и фиксируем положения аминоксилот\n",
    "            for i in range(len(elem)):\n",
    "                if i!=0 and ((elem[i]=='P' and elem[i-1]=='K') or (elem[i]=='P' and elem[i-1]=='R')):    \n",
    "                    seat.append(2)\n",
    "                elif elem[i]=='R' or elem[i]=='K':\n",
    "                    seat.append(1)\n",
    "                else:\n",
    "                    seat.append(0)\n",
    "            #создаем массив для перестановки аминокислот в пептиде\n",
    "            shuffle_part=[]\n",
    "            for i in range(len(elem)):\n",
    "                if seat[i]==0:\n",
    "                    shuffle_part.append(elem[i])\n",
    "            random.shuffle(shuffle_part)\n",
    "            #восстанавливаем пептид\n",
    "            k=0\n",
    "            recovery=[]\n",
    "            for i in range(len(elem)):\n",
    "                if seat[i]==0:\n",
    "                    recovery.append(shuffle_part[k])\n",
    "                    k+=1\n",
    "                else:\n",
    "                    recovery.append(elem[i])\n",
    "            #делаем из набора кислот строку\n",
    "            pept=''\n",
    "            for i in range(len(recovery)):\n",
    "                if pept=='':\n",
    "                    pept=recovery[i]\n",
    "                else:\n",
    "                    pept=pept+recovery[i]\n",
    "            #добавляем в строку пептидов        \n",
    "            if res=='':\n",
    "                res=pept\n",
    "            else:\n",
    "                res=res+' '+pept\n",
    "        #записываем decoy пептиды в фаил\n",
    "        file.write('>'+description+'_shuffled'+'\\n'+res+'\\n')\n",
    "file.close()"
   ]
  },
  {
   "cell_type": "code",
   "execution_count": 54,
   "metadata": {},
   "outputs": [
    {
     "name": "stdout",
     "output_type": "stream",
     "text": [
      "[0, 1, 2, 0] ['RTUI', 'PKRT', 'YRPH'] ['RTUI', 'PKRT', 'YRPH'] ['Y', 'H'] ['Y', 'R', 'P', 'H'] RUTI TKRP YRPH\n"
     ]
    }
   ],
   "source": [
    "#EXAMPLE!!!!!\n",
    "#с закрепление символов в строке\n",
    "#взяли отдельный пептид\n",
    "import random\n",
    "pep=['RTUI','PKRT','YRPH']\n",
    "#pep=['YRPH']\n",
    "a=pep\n",
    "res=''\n",
    "for elem in pep:\n",
    "    #создаем массив с позициями интересующих нас аминокислот\n",
    "    seat=[]\n",
    "    #бежим по пептиду и фиксируем положения аминоксилот\n",
    "    for i in range(len(elem)):\n",
    "        if i!=0 and ((elem[i]=='P' and elem[i-1]=='K') or (elem[i]=='P' and elem[i-1]=='R')):    \n",
    "            seat.append(2)\n",
    "        elif elem[i]=='R' or elem[i]=='K':\n",
    "            seat.append(1)\n",
    "        else:\n",
    "            seat.append(0)\n",
    "    #создаем массив для перестановки аминокислот в пептиде\n",
    "    shuffle_part=[]\n",
    "    for i in range(len(elem)):\n",
    "        if seat[i]==0:\n",
    "            shuffle_part.append(elem[i])\n",
    "    random.shuffle(shuffle_part)\n",
    "    #восстанавливаем пептид\n",
    "    k=0\n",
    "    recovery=[]\n",
    "    for i in range(len(elem)):\n",
    "        if seat[i]==0:\n",
    "            recovery.append(shuffle_part[k])\n",
    "            k+=1\n",
    "        else:\n",
    "            recovery.append(elem[i])\n",
    "    #делаем из набора кислот строку\n",
    "    pept=''\n",
    "    for i in range(len(recovery)):\n",
    "        if pept=='':\n",
    "            pept=recovery[i]\n",
    "        else:\n",
    "            pept=pept+recovery[i]\n",
    "    #добавляем в строку пептидов        \n",
    "    if res=='':\n",
    "        res=pept\n",
    "    else:\n",
    "        res=res+' '+pept\n",
    "            \n",
    "print(seat,pep,a,shuffle_part,recovery,res)            \n",
    "    "
   ]
  },
  {
   "cell_type": "markdown",
   "metadata": {},
   "source": [
    "### 2. Подготовка mod_reversed.fasta"
   ]
  },
  {
   "cell_type": "markdown",
   "metadata": {},
   "source": [
    "### Дрожжи"
   ]
  },
  {
   "cell_type": "code",
   "execution_count": 49,
   "metadata": {},
   "outputs": [],
   "source": [
    "seq=''\n",
    "name=''\n",
    "#создаем новый файл для записи декойных последовательностей\n",
    "file=open('knowledgebase/proteomes/YEAST_mod_reversed.fasta', 'w')\n",
    "for description,sequence in fasta.read('knowledgebase/proteomes/YEAST_mod.fasta'):\n",
    "    #рассматирваем случай, когда белок канонический\n",
    "    if description.count('Isoform')==0:     \n",
    "        #записываем исходный белок\n",
    "        file.write('>'+description+'\\n'+sequence+'\\n')\n",
    "        #записываем decoy\n",
    "        seq=fasta.reverse(sequence)\n",
    "        name='>'+description +'_reversed'\n",
    "        file.write(name+'\\n'+seq+'\\n')\n",
    "        \n",
    "    # случай изоформы    \n",
    "    else:\n",
    "        #записываем исходный белок\n",
    "        file.write('>'+description+'\\n'+sequence+'\\n')\n",
    "        \n",
    "        #превращаем строку пептидов в массив\n",
    "        peptides=[]\n",
    "        k=0\n",
    "        for i in range(len(sequence)):\n",
    "            if sequence[i]==' ':\n",
    "                peptides.append(sequence[k:i])\n",
    "                k=i+1\n",
    "            elif (i==len(sequence)-1):\n",
    "                peptides.append(sequence[k:i+1])\n",
    "        # будем работать с пептидами как с элементами массива:заморозим позиции Lys,Arg и Lys-Pro,Arg-Pro и применим shuffle\n",
    "        res=''\n",
    "        for elem in peptides:\n",
    "        #создаем массив с позициями интересующих нас аминокислот\n",
    "            seat=[]\n",
    "            #бежим по пептиду и фиксируем положения аминоксилот\n",
    "            for i in range(len(elem)):\n",
    "                if i!=0 and ((elem[i]=='P' and elem[i-1]=='K') or (elem[i]=='P' and elem[i-1]=='R')):    \n",
    "                    seat.append(2)\n",
    "                elif elem[i]=='R' or elem[i]=='K':\n",
    "                    seat.append(1)\n",
    "                else:\n",
    "                    seat.append(0)\n",
    "            #создаем массив для перестановки аминокислот в пептиде\n",
    "            shuffle_part=[]\n",
    "            for i in range(len(elem)):\n",
    "                if seat[i]==0:\n",
    "                    shuffle_part.append(elem[i])\n",
    "            shuffle_part.reverse()\n",
    "            #восстанавливаем пептид\n",
    "            k=0\n",
    "            recovery=[]\n",
    "            for i in range(len(elem)):\n",
    "                if seat[i]==0:\n",
    "                    recovery.append(shuffle_part[k])\n",
    "                    k+=1\n",
    "                else:\n",
    "                    recovery.append(elem[i])\n",
    "            #делаем из набора кислот строку\n",
    "            pept=''\n",
    "            for i in range(len(recovery)):\n",
    "                if pept=='':\n",
    "                    pept=recovery[i]\n",
    "                else:\n",
    "                    pept=pept+recovery[i]\n",
    "            #добавляем в строку пептидов        \n",
    "            if res=='':\n",
    "                res=pept\n",
    "            else:\n",
    "                res=res+' '+pept\n",
    "        #записываем decoy пептиды в фаил\n",
    "        file.write('>'+description+'_reversed'+'\\n'+res+'\\n')\n",
    "file.close()"
   ]
  },
  {
   "cell_type": "markdown",
   "metadata": {},
   "source": [
    "### Человек"
   ]
  },
  {
   "cell_type": "code",
   "execution_count": 50,
   "metadata": {},
   "outputs": [],
   "source": [
    "seq=''\n",
    "name=''\n",
    "#создаем новый файл для записи декойных последовательностей\n",
    "file=open('knowledgebase/proteomes/HUMAN_mod_reversed.fasta', 'w')\n",
    "for description,sequence in fasta.read('knowledgebase/proteomes/HUMAN_mod.fasta'):\n",
    "    #рассматирваем случай, когда белок канонический\n",
    "    if description.count('Isoform')==0:     \n",
    "        #записываем исходный белок\n",
    "        file.write('>'+description+'\\n'+sequence+'\\n')\n",
    "        #записываем decoy\n",
    "        seq=fasta.reverse(sequence)\n",
    "        name='>'+description +'_reversed'\n",
    "        file.write(name+'\\n'+seq+'\\n')\n",
    "        \n",
    "    # случай изоформы    \n",
    "    else:\n",
    "        #записываем исходный белок\n",
    "        file.write('>'+description+'\\n'+sequence+'\\n')\n",
    "        \n",
    "        #превращаем строку пептидов в массив\n",
    "        peptides=[]\n",
    "        k=0\n",
    "        for i in range(len(sequence)):\n",
    "            if sequence[i]==' ':\n",
    "                peptides.append(sequence[k:i])\n",
    "                k=i+1\n",
    "            elif (i==len(sequence)-1):\n",
    "                peptides.append(sequence[k:i+1])\n",
    "        # будем работать с пептидами как с элементами массива:заморозим позиции Lys,Arg и Lys-Pro,Arg-Pro и применим shuffle\n",
    "        res=''\n",
    "        for elem in peptides:\n",
    "        #создаем массив с позициями интересующих нас аминокислот\n",
    "            seat=[]\n",
    "            #бежим по пептиду и фиксируем положения аминоксилот\n",
    "            for i in range(len(elem)):\n",
    "                if i!=0 and ((elem[i]=='P' and elem[i-1]=='K') or (elem[i]=='P' and elem[i-1]=='R')):    \n",
    "                    seat.append(2)\n",
    "                elif elem[i]=='R' or elem[i]=='K':\n",
    "                    seat.append(1)\n",
    "                else:\n",
    "                    seat.append(0)\n",
    "            #создаем массив для перестановки аминокислот в пептиде\n",
    "            shuffle_part=[]\n",
    "            for i in range(len(elem)):\n",
    "                if seat[i]==0:\n",
    "                    shuffle_part.append(elem[i])\n",
    "            shuffle_part.reverse()\n",
    "            #восстанавливаем пептид\n",
    "            k=0\n",
    "            recovery=[]\n",
    "            for i in range(len(elem)):\n",
    "                if seat[i]==0:\n",
    "                    recovery.append(shuffle_part[k])\n",
    "                    k+=1\n",
    "                else:\n",
    "                    recovery.append(elem[i])\n",
    "            #делаем из набора кислот строку\n",
    "            pept=''\n",
    "            for i in range(len(recovery)):\n",
    "                if pept=='':\n",
    "                    pept=recovery[i]\n",
    "                else:\n",
    "                    pept=pept+recovery[i]\n",
    "            #добавляем в строку пептидов        \n",
    "            if res=='':\n",
    "                res=pept\n",
    "            else:\n",
    "                res=res+' '+pept\n",
    "        #записываем decoy пептиды в фаил\n",
    "        file.write('>'+description+'_reversed'+'\\n'+res+'\\n')\n",
    "file.close()"
   ]
  },
  {
   "cell_type": "markdown",
   "metadata": {},
   "source": [
    "# Создание пептидных БД с декойными пептидами"
   ]
  },
  {
   "cell_type": "code",
   "execution_count": 51,
   "metadata": {},
   "outputs": [],
   "source": [
    "#создание пептидной БД дрожжей\n",
    "path='knowledgebase/proteomes/YEAST.fasta.gz'\n",
    "proteome=fasta.read(gzip.open(path,'rt'))\n",
    "dict1=proteomeBD(proteome,'trypsin')\n",
    "#сохранение пептидной БД\n",
    "fpath=path[:path.find('.')]+'_'+'trypsin'+'.fasta'\n",
    "FastaSave(dict1,fpath)"
   ]
  },
  {
   "cell_type": "code",
   "execution_count": 52,
   "metadata": {},
   "outputs": [],
   "source": [
    "#создание пептидной БД человека\n",
    "path='knowledgebase/proteomes/HUMAN.fasta.gz'\n",
    "proteome=fasta.read(gzip.open(path,'rt'))\n",
    "dict1=proteomeBD(proteome,'trypsin')\n",
    "#сохранение пептидной БД\n",
    "fpath=path[:path.find('.')]+'_'+'trypsin'+'.fasta'\n",
    "FastaSave(dict1,fpath)"
   ]
  },
  {
   "cell_type": "markdown",
   "metadata": {},
   "source": [
    "## 1. Декойные пептиды созданы с помощью shuffle"
   ]
  },
  {
   "cell_type": "markdown",
   "metadata": {},
   "source": [
    "## Дрожжи"
   ]
  },
  {
   "cell_type": "code",
   "execution_count": 53,
   "metadata": {},
   "outputs": [],
   "source": [
    "seq=''\n",
    "name=''\n",
    "#создаем новый файл для записи декойных последовательностей\n",
    "file=open('knowledgebase/proteomes/YEAST_trypsin_shuffled.fasta', 'w')\n",
    "for description,sequence in fasta.read('knowledgebase/proteomes/YEAST_trypsin.fasta'):   \n",
    "    #записываем исходный пептид\n",
    "    file.write('>'+description+'\\n'+sequence+'\\n')\n",
    "    #создаем массив с позициями интересующих нас аминокислот\n",
    "    seat=[]\n",
    "    #бежим по пептиду и фиксируем положения аминоксилот\n",
    "    for i in range(len(description)):\n",
    "        if i!=0 and ((description[i]=='P' and description[i-1]=='K') or (description[i]=='P' and description[i-1]=='R')):    \n",
    "            seat.append(2)\n",
    "        elif description[i]=='R' or description[i]=='K':\n",
    "            seat.append(1)\n",
    "        else:\n",
    "            seat.append(0)\n",
    "    #создаем массив для перестановки аминокислот в пептиде\n",
    "    shuffle_part=[]\n",
    "    for i in range(len(description)):\n",
    "        if seat[i]==0:\n",
    "            shuffle_part.append(description[i])\n",
    "    random.shuffle(shuffle_part)\n",
    "    #восстанавливаем пептид\n",
    "    k=0\n",
    "    recovery=[]\n",
    "    for i in range(len(description)):\n",
    "        if seat[i]==0:\n",
    "            recovery.append(shuffle_part[k])\n",
    "            k+=1\n",
    "        else:\n",
    "            recovery.append(description[i])\n",
    "    #делаем из набора кислот строку\n",
    "    pept=''\n",
    "    for i in range(len(recovery)):\n",
    "        if pept=='':\n",
    "            pept=recovery[i]\n",
    "        else:\n",
    "            pept=pept+recovery[i]\n",
    "    #записываем decoy пептид в фаил\n",
    "    file.write('>'+pept+'\\n'+sequence+' shuffled'+'\\n')\n",
    "file.close()"
   ]
  },
  {
   "cell_type": "markdown",
   "metadata": {},
   "source": [
    "## Человек"
   ]
  },
  {
   "cell_type": "code",
   "execution_count": 54,
   "metadata": {},
   "outputs": [],
   "source": [
    "seq=''\n",
    "name=''\n",
    "#создаем новый файл для записи декойных последовательностей\n",
    "file=open('knowledgebase/proteomes/HUMAN_trypsin_shuffled.fasta', 'w')\n",
    "for description,sequence in fasta.read('knowledgebase/proteomes/HUMAN_trypsin.fasta'):   \n",
    "    #записываем исходный пептид\n",
    "    file.write('>'+description+'\\n'+sequence+'\\n')\n",
    "    #создаем массив с позициями интересующих нас аминокислот\n",
    "    seat=[]\n",
    "    #бежим по пептиду и фиксируем положения аминоксилот\n",
    "    for i in range(len(description)):\n",
    "        if i!=0 and ((description[i]=='P' and description[i-1]=='K') or (description[i]=='P' and description[i-1]=='R')):    \n",
    "            seat.append(2)\n",
    "        elif description[i]=='R' or description[i]=='K':\n",
    "            seat.append(1)\n",
    "        else:\n",
    "            seat.append(0)\n",
    "    #создаем массив для перестановки аминокислот в пептиде\n",
    "    shuffle_part=[]\n",
    "    for i in range(len(description)):\n",
    "        if seat[i]==0:\n",
    "            shuffle_part.append(description[i])\n",
    "    random.shuffle(shuffle_part)\n",
    "    #восстанавливаем пептид\n",
    "    k=0\n",
    "    recovery=[]\n",
    "    for i in range(len(description)):\n",
    "        if seat[i]==0:\n",
    "            recovery.append(shuffle_part[k])\n",
    "            k+=1\n",
    "        else:\n",
    "            recovery.append(description[i])\n",
    "    #делаем из набора кислот строку\n",
    "    pept=''\n",
    "    for i in range(len(recovery)):\n",
    "        if pept=='':\n",
    "            pept=recovery[i]\n",
    "        else:\n",
    "            pept=pept+recovery[i]\n",
    "    #записываем decoy пептид в фаил\n",
    "    file.write('>'+pept+'\\n'+sequence+' shuffled'+'\\n')\n",
    "file.close()"
   ]
  },
  {
   "cell_type": "markdown",
   "metadata": {},
   "source": [
    "## 2. Декойные пептиды созданы с помощью reversed"
   ]
  },
  {
   "cell_type": "markdown",
   "metadata": {},
   "source": [
    "## Дрожжи"
   ]
  },
  {
   "cell_type": "code",
   "execution_count": 55,
   "metadata": {},
   "outputs": [],
   "source": [
    "seq=''\n",
    "name=''\n",
    "#создаем новый файл для записи декойных последовательностей\n",
    "file=open('knowledgebase/proteomes/YEAST_trypsin_reversed.fasta', 'w')\n",
    "for description,sequence in fasta.read('knowledgebase/proteomes/YEAST_trypsin.fasta'):   \n",
    "    #записываем исходный пептид\n",
    "    file.write('>'+description+'\\n'+sequence+'\\n')\n",
    "    #создаем массив с позициями интересующих нас аминокислот\n",
    "    seat=[]\n",
    "    #бежим по пептиду и фиксируем положения аминоксилот\n",
    "    for i in range(len(description)):\n",
    "        if i!=0 and ((description[i]=='P' and description[i-1]=='K') or (description[i]=='P' and description[i-1]=='R')):    \n",
    "            seat.append(2)\n",
    "        elif description[i]=='R' or description[i]=='K':\n",
    "            seat.append(1)\n",
    "        else:\n",
    "            seat.append(0)\n",
    "    #создаем массив для перестановки аминокислот в пептиде\n",
    "    shuffle_part=[]\n",
    "    for i in range(len(description)):\n",
    "        if seat[i]==0:\n",
    "            shuffle_part.append(description[i])\n",
    "    shuffle_part.reverse()\n",
    "    #восстанавливаем пептид\n",
    "    k=0\n",
    "    recovery=[]\n",
    "    for i in range(len(description)):\n",
    "        if seat[i]==0:\n",
    "            recovery.append(shuffle_part[k])\n",
    "            k+=1\n",
    "        else:\n",
    "            recovery.append(description[i])\n",
    "    #делаем из набора кислот строку\n",
    "    pept=''\n",
    "    for i in range(len(recovery)):\n",
    "        if pept=='':\n",
    "            pept=recovery[i]\n",
    "        else:\n",
    "            pept=pept+recovery[i]\n",
    "    #записываем decoy пептид в фаил\n",
    "    file.write('>'+pept+'\\n'+sequence+' reversed'+'\\n')\n",
    "file.close()"
   ]
  },
  {
   "cell_type": "markdown",
   "metadata": {},
   "source": [
    "## Человек"
   ]
  },
  {
   "cell_type": "code",
   "execution_count": 56,
   "metadata": {},
   "outputs": [],
   "source": [
    "seq=''\n",
    "name=''\n",
    "#создаем новый файл для записи декойных последовательностей\n",
    "file=open('knowledgebase/proteomes/HUMAN_trypsin_reversed.fasta', 'w')\n",
    "for description,sequence in fasta.read('knowledgebase/proteomes/HUMAN_trypsin.fasta'):   \n",
    "    #записываем исходный пептид\n",
    "    file.write('>'+description+'\\n'+sequence+'\\n')\n",
    "    #создаем массив с позициями интересующих нас аминокислот\n",
    "    seat=[]\n",
    "    #бежим по пептиду и фиксируем положения аминоксилот\n",
    "    for i in range(len(description)):\n",
    "        if i!=0 and ((description[i]=='P' and description[i-1]=='K') or (description[i]=='P' and description[i-1]=='R')):    \n",
    "            seat.append(2)\n",
    "        elif description[i]=='R' or description[i]=='K':\n",
    "            seat.append(1)\n",
    "        else:\n",
    "            seat.append(0)\n",
    "    #создаем массив для перестановки аминокислот в пептиде\n",
    "    shuffle_part=[]\n",
    "    for i in range(len(description)):\n",
    "        if seat[i]==0:\n",
    "            shuffle_part.append(description[i])\n",
    "    shuffle_part.reverse()\n",
    "    #восстанавливаем пептид\n",
    "    k=0\n",
    "    recovery=[]\n",
    "    for i in range(len(description)):\n",
    "        if seat[i]==0:\n",
    "            recovery.append(shuffle_part[k])\n",
    "            k+=1\n",
    "        else:\n",
    "            recovery.append(description[i])\n",
    "    #делаем из набора кислот строку\n",
    "    pept=''\n",
    "    for i in range(len(recovery)):\n",
    "        if pept=='':\n",
    "            pept=recovery[i]\n",
    "        else:\n",
    "            pept=pept+recovery[i]\n",
    "    #записываем decoy пептид в фаил\n",
    "    file.write('>'+pept+'\\n'+sequence+' reversed'+'\\n')\n",
    "file.close()"
   ]
  },
  {
   "cell_type": "markdown",
   "metadata": {},
   "source": [
    "## Сравнение размеров таргетной и декойной частей пептидной базы"
   ]
  },
  {
   "cell_type": "markdown",
   "metadata": {},
   "source": [
    "### Дрожжи"
   ]
  },
  {
   "cell_type": "code",
   "execution_count": 57,
   "metadata": {},
   "outputs": [
    {
     "name": "stdout",
     "output_type": "stream",
     "text": [
      "Размер таргетной и декойной части совпадают!\n"
     ]
    }
   ],
   "source": [
    "len_decoy_sh=0\n",
    "len_target_sh=0\n",
    "len_target_r=0\n",
    "len_decoy_r=0\n",
    "for description,sequence in fasta.read('knowledgebase/proteomes/YEAST_trypsin_shuffled.fasta'):\n",
    "    if sequence.count('shuffled')==0:\n",
    "        len_target_sh+=1\n",
    "    else:\n",
    "        len_decoy_sh+=1\n",
    "for description,sequence in fasta.read('knowledgebase/proteomes/YEAST_trypsin_reversed.fasta'):\n",
    "    if sequence.count('reversed')==0:\n",
    "        len_target_r+=1\n",
    "    else:\n",
    "        len_decoy_r+=1        \n",
    "if len_target_r==len_decoy_r==len_decoy_sh==len_target_sh:\n",
    "    print('Размер таргетной и декойной части совпадают!')\n",
    "else:\n",
    "    print('Ошибка в генерировании декойной части!')    "
   ]
  },
  {
   "cell_type": "markdown",
   "metadata": {},
   "source": [
    "## Человек"
   ]
  },
  {
   "cell_type": "code",
   "execution_count": 58,
   "metadata": {},
   "outputs": [
    {
     "name": "stdout",
     "output_type": "stream",
     "text": [
      "Размер таргетной и декойной части совпадают!\n"
     ]
    }
   ],
   "source": [
    "len_decoy_sh=0\n",
    "len_target_sh=0\n",
    "len_target_r=0\n",
    "len_decoy_r=0\n",
    "for description,sequence in fasta.read('knowledgebase/proteomes/HUMAN_trypsin_shuffled.fasta'):\n",
    "    if sequence.count('shuffled')==0:\n",
    "        len_target_sh+=1\n",
    "    else:\n",
    "        len_decoy_sh+=1\n",
    "for description,sequence in fasta.read('knowledgebase/proteomes/HUMAN_trypsin_reversed.fasta'):\n",
    "    if sequence.count('reversed')==0:\n",
    "        len_target_r+=1\n",
    "    else:\n",
    "        len_decoy_r+=1        \n",
    "if len_target_r==len_decoy_r==len_decoy_sh==len_target_sh:\n",
    "    print('Размер таргетной и декойной части совпадают!')\n",
    "else:\n",
    "    print('Ошибка в генерировании декойной части!')    "
   ]
  },
  {
   "cell_type": "markdown",
   "metadata": {},
   "source": [
    "# The end"
   ]
  },
  {
   "cell_type": "code",
   "execution_count": 53,
   "metadata": {},
   "outputs": [
    {
     "name": "stdout",
     "output_type": "stream",
     "text": [
      "IPSILLPSK sp|P12688|YPK1_YEAST\n",
      "LISILPSPK sp|P12688|YPK1_YEAST shuffled\n"
     ]
    }
   ],
   "source": [
    "a=[]\n",
    "b=[]\n",
    "for description,sequence in fasta.read('knowledgebase/proteomes/YEAST_trypsin_shuffled.fasta'):\n",
    "    a.append(description)\n",
    "    b.append(sequence)\n",
    "print(a[6],b[6]) \n",
    "print(a[7],b[7])"
   ]
  },
  {
   "cell_type": "code",
   "execution_count": 51,
   "metadata": {},
   "outputs": [
    {
     "name": "stdout",
     "output_type": "stream",
     "text": [
      "IPSILLPSK PIIPLSLSK\n",
      "[0, 0, 0, 0, 0, 0, 0, 0, 1]\n"
     ]
    }
   ],
   "source": [
    "description='IPSILLPSK'\n",
    "seat=[]\n",
    "for i in range(len(description)):\n",
    "    if i!=0 and ((description[i]=='P' and description[i-1]=='K') or (description[i]=='P' and description[i-1]=='R')):    \n",
    "        seat.append(2)\n",
    "    elif description[i]=='R' or description[i]=='K':\n",
    "        seat.append(1)\n",
    "    else:\n",
    "        seat.append(0)\n",
    "#создаем массив для перестановки аминокислот в пептиде\n",
    "shuffle_part=[]\n",
    "for i in range(len(description)):\n",
    "    if seat[i]==0:\n",
    "        shuffle_part.append(description[i])\n",
    "shuffle_part.reverse()\n",
    "#восстанавливаем пептид\n",
    "k=0\n",
    "recovery=[]\n",
    "for i in range(len(description)):\n",
    "    if seat[i]==0:\n",
    "        recovery.append(shuffle_part[k])\n",
    "        k+=1\n",
    "    else:\n",
    "        recovery.append(description[i])\n",
    "#делаем из набора кислот строку\n",
    "pept=''\n",
    "for i in range(len(recovery)):\n",
    "    if pept=='':\n",
    "        pept=recovery[i]\n",
    "    else:\n",
    "        pept=pept+recovery[i]   \n",
    "print(description,pept)\n",
    "print(seat)"
   ]
  },
  {
   "cell_type": "code",
   "execution_count": 28,
   "metadata": {},
   "outputs": [
    {
     "ename": "NameError",
     "evalue": "name 'op' is not defined",
     "output_type": "error",
     "traceback": [
      "\u001b[0;31m---------------------------------------------------------------------------\u001b[0m",
      "\u001b[0;31mNameError\u001b[0m                                 Traceback (most recent call last)",
      "\u001b[0;32m<ipython-input-28-d7b32102f269>\u001b[0m in \u001b[0;36m<module>\u001b[0;34m\u001b[0m\n\u001b[0;32m----> 1\u001b[0;31m \u001b[0mprint\u001b[0m\u001b[0;34m(\u001b[0m\u001b[0mop\u001b[0m\u001b[0;34m[\u001b[0m\u001b[0;34m-\u001b[0m\u001b[0;36m1\u001b[0m\u001b[0;34m]\u001b[0m\u001b[0;34m)\u001b[0m\u001b[0;34m\u001b[0m\u001b[0;34m\u001b[0m\u001b[0m\n\u001b[0m",
      "\u001b[0;31mNameError\u001b[0m: name 'op' is not defined"
     ]
    }
   ],
   "source": [
    "print(op[-1])"
   ]
  },
  {
   "cell_type": "code",
   "execution_count": 68,
   "metadata": {},
   "outputs": [
    {
     "name": "stdout",
     "output_type": "stream",
     "text": [
      "38245541 9145579\n",
      "sp|Q12146|PSF3_YEAST DNA replication complex GINS protein PSF3 OS=Saccharomyces cerevisiae (strain ATCC 204508 / S288c) OX=559292 GN=PSF3 PE=1 SV=2_reversed MGYYDIDDVLADGTEFPCKFQYDIPGLGYLENNPGRPITKNTKLSLPLWLARILAIVGGDEALVDEEPVPFVELLPPDMFSTKVMNAIKTDPVALDLHSINSHFFSLAIKWIMLFSEKELANVVSELLLQRAQELNHHASSLSIDLNADSTGKNSANTNIATSTFLLKLEEMEKEIYKKSHESYKDTKRWMFKK\n"
     ]
    }
   ],
   "source": [
    "s= os.path.getsize('knowledgebase/proteomes/HUMAN_shuffled.fasta.gz')\n",
    "s_1=os.path.getsize('knowledgebase/proteomes/HUMAN_isoforms.fasta.gz')\n",
    "print(s,s_1)\n",
    "print(op[-1],op1[-1])"
   ]
  }
 ],
 "metadata": {
  "kernelspec": {
   "display_name": "Python 3",
   "language": "python",
   "name": "python3"
  },
  "language_info": {
   "codemirror_mode": {
    "name": "ipython",
    "version": 3
   },
   "file_extension": ".py",
   "mimetype": "text/x-python",
   "name": "python",
   "nbconvert_exporter": "python",
   "pygments_lexer": "ipython3",
   "version": "3.7.4"
  }
 },
 "nbformat": 4,
 "nbformat_minor": 2
}
